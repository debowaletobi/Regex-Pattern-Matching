{
 "cells": [
  {
   "cell_type": "code",
   "execution_count": 1,
   "id": "f75e71ac",
   "metadata": {},
   "outputs": [],
   "source": [
    "import re\n",
    "from collections.abc import Iterable"
   ]
  },
  {
   "cell_type": "markdown",
   "id": "7be718d5",
   "metadata": {},
   "source": [
    "\n",
    "### Finding raw-string patterns\n"
   ]
  },
  {
   "cell_type": "code",
   "execution_count": 2,
   "id": "c16f0d7f",
   "metadata": {},
   "outputs": [],
   "source": [
    "test_string = \"123abc45678abc@\"\n",
    "pattern = re.compile(r\"abc\")"
   ]
  },
  {
   "cell_type": "code",
   "execution_count": 3,
   "id": "f2f330df",
   "metadata": {},
   "outputs": [],
   "source": [
    "#finditer() returns match object with span and match \n",
    "finditer_matches = re.finditer(pattern, test_string)"
   ]
  },
  {
   "cell_type": "code",
   "execution_count": 4,
   "id": "cc9cd3ae",
   "metadata": {},
   "outputs": [],
   "source": [
    "#findall() returns only match\n",
    "findall_matches = re.findall(pattern, test_string)"
   ]
  },
  {
   "cell_type": "code",
   "execution_count": 5,
   "id": "c729311b",
   "metadata": {},
   "outputs": [],
   "source": [
    "#search() returns first match object\n",
    "search_matches = re.search(pattern, test_string)"
   ]
  },
  {
   "cell_type": "code",
   "execution_count": 6,
   "id": "7c7d9530",
   "metadata": {},
   "outputs": [],
   "source": [
    "#returns match object if pattern is found at the begining of the string, else None\n",
    "match_matches = re.match(pattern, test_string)"
   ]
  },
  {
   "cell_type": "code",
   "execution_count": 7,
   "id": "742a3711",
   "metadata": {},
   "outputs": [],
   "source": [
    "def print_match(matches):\n",
    "    \"\"\"\n",
    "    takes in match object, \n",
    "    returns the match objects that match the pattern specified in the argument\n",
    "    \n",
    "    \"\"\"\n",
    "    if isinstance(matches, Iterable):\n",
    "        for match in matches:\n",
    "            print(match)\n",
    "    elif matches == None:\n",
    "        return(\"There was no match\")\n",
    "    else:\n",
    "        print(matches)"
   ]
  },
  {
   "cell_type": "code",
   "execution_count": 8,
   "id": "50563bf4",
   "metadata": {},
   "outputs": [
    {
     "name": "stdout",
     "output_type": "stream",
     "text": [
      "<re.Match object; span=(3, 6), match='abc'>\n",
      "<re.Match object; span=(11, 14), match='abc'>\n"
     ]
    }
   ],
   "source": [
    "print_match(finditer_matches)"
   ]
  },
  {
   "cell_type": "code",
   "execution_count": 9,
   "id": "1905d57b",
   "metadata": {},
   "outputs": [
    {
     "name": "stdout",
     "output_type": "stream",
     "text": [
      "abc\n",
      "abc\n"
     ]
    }
   ],
   "source": [
    "print_match(findall_matches)"
   ]
  },
  {
   "cell_type": "code",
   "execution_count": 10,
   "id": "858c59c4",
   "metadata": {},
   "outputs": [
    {
     "name": "stdout",
     "output_type": "stream",
     "text": [
      "<re.Match object; span=(3, 6), match='abc'>\n"
     ]
    }
   ],
   "source": [
    "print_match(search_matches)"
   ]
  },
  {
   "cell_type": "code",
   "execution_count": 11,
   "id": "f8ae62ba",
   "metadata": {},
   "outputs": [
    {
     "data": {
      "text/plain": [
       "'There was no match'"
      ]
     },
     "execution_count": 11,
     "metadata": {},
     "output_type": "execute_result"
    }
   ],
   "source": [
    "print_match(match_matches)"
   ]
  },
  {
   "cell_type": "markdown",
   "id": "ddb11a89",
   "metadata": {},
   "source": [
    "##### Match object methods - span(), start(), end(), group()"
   ]
  },
  {
   "cell_type": "code",
   "execution_count": 12,
   "id": "ec282855",
   "metadata": {},
   "outputs": [
    {
     "name": "stdout",
     "output_type": "stream",
     "text": [
      " Span  : (0, 3) \n",
      " Start : 0 \n",
      " End   : 3 \n",
      " Group : 123\n"
     ]
    }
   ],
   "source": [
    "pattern = re.compile(r\"123\")\n",
    "matches = re.finditer(pattern, test_string)\n",
    "for match in matches:\n",
    "    print(\" Span  :\",match.span(),\n",
    "          \"\\n\",\"Start :\",match.start(),\n",
    "          \"\\n\",\"End   :\",match.end(),\n",
    "          \"\\n\",\"Group :\", match.group())"
   ]
  },
  {
   "cell_type": "markdown",
   "id": "b2ff69e1",
   "metadata": {},
   "source": [
    "### Meta-characters \n",
    "##### #. , ^ , * , \\$ , + , ? , { , } , [ , ] , \\ , | , ( , ) \n",
    " \n",
    " \n",
    "``. - Any character except new line``                                                                                     \n",
    "``^ - Starts with specified pattern e.g \"^this is a\"``                                                                 \n",
    "``$ - Ends with specified pattern e.g \"notebook\\$\"``                                                                 \n",
    "``* - Zero or more occurences``                                                                                       \n",
    "``+ - One or more occurences``                                                                                         \n",
    "``{} - Exactly the specified number of occurences e.g 2 occurences as {2}``                                           \n",
    "``[] - Set of characters e.g [0-9], [a-m]``                                                                           \n",
    "``\\ - Special sequence (or escape special characters) e.g \"\\d\"``                                                       \n",
    "``| - Either``                                                                                                         \n",
    "``() - Capture and group``\n",
    "\n",
    "Reference - [Python Engineer](https://www.youtube.com/watch?v=AEE9ecgLgdQ) "
   ]
  },
  {
   "cell_type": "code",
   "execution_count": 13,
   "id": "07cd5b07",
   "metadata": {},
   "outputs": [],
   "source": [
    "def execute(pattern, test_string):\n",
    "    \"\"\"\n",
    "    Returns the match object that matches specified 'pattern' in 'test string'\n",
    "    \"\"\"\n",
    "    pattern = re.compile(pattern)\n",
    "    matches = re.finditer(pattern, test_string)\n",
    "    return(print_match(matches))"
   ]
  },
  {
   "cell_type": "code",
   "execution_count": 14,
   "id": "edc0c72c",
   "metadata": {},
   "outputs": [
    {
     "name": "stdout",
     "output_type": "stream",
     "text": [
      "<re.Match object; span=(0, 1), match='T'>\n",
      "<re.Match object; span=(1, 2), match='h'>\n",
      "<re.Match object; span=(2, 3), match='i'>\n",
      "<re.Match object; span=(3, 4), match='s'>\n",
      "<re.Match object; span=(4, 5), match='@'>\n",
      "<re.Match object; span=(5, 6), match='i'>\n",
      "<re.Match object; span=(6, 7), match='s'>\n"
     ]
    }
   ],
   "source": [
    "execute(r\".\", \"This@is\")"
   ]
  },
  {
   "cell_type": "code",
   "execution_count": 15,
   "id": "5e04b0fc",
   "metadata": {},
   "outputs": [
    {
     "name": "stdout",
     "output_type": "stream",
     "text": [
      "<re.Match object; span=(0, 3), match='Hey'>\n"
     ]
    }
   ],
   "source": [
    "execute(r\"^Hey\", \"Hey boy\")"
   ]
  },
  {
   "cell_type": "code",
   "execution_count": 16,
   "id": "294155cd",
   "metadata": {},
   "outputs": [],
   "source": [
    "execute(r\"^Hey\", \"Hello there!\")"
   ]
  },
  {
   "cell_type": "code",
   "execution_count": 17,
   "id": "356d7741",
   "metadata": {},
   "outputs": [
    {
     "name": "stdout",
     "output_type": "stream",
     "text": [
      "<re.Match object; span=(4, 7), match='end'>\n"
     ]
    }
   ],
   "source": [
    "execute(r\"end$\", \"The end\")"
   ]
  },
  {
   "cell_type": "markdown",
   "id": "7f762416",
   "metadata": {},
   "source": [
    "##### Special Characters \n",
    "``\\d - Matches any decimal digit;[0-9]``                                                                              \n",
    "``\\D - Matches any non-decimal digit``                                                                                \n",
    "``\\s - Matches any white-space character (space \" \", tab \"\\t\", newline \"\\n\"``                                         \n",
    "``\\S - Matches any non-whitespace character``                                                                         \n",
    "``\\w - Matches any alpha-numeric (word) character; [a-zA-Z0-9]``                                                       \n",
    "``\\W - Matches non-alphanumeric charcters``                                                                           \n",
    "``\\b - Matches where the specified characters are at the begining or end of a word``                                 \n",
    "``\\B - Matches where the specified characters are present but are not at the begining or end of a word``              \n",
    "\n",
    "Reference - [Python Engineer](https://www.youtube.com/watch?v=AEE9ecgLgdQ) "
   ]
  },
  {
   "cell_type": "code",
   "execution_count": 18,
   "id": "77d4e1a9",
   "metadata": {},
   "outputs": [
    {
     "name": "stdout",
     "output_type": "stream",
     "text": [
      "<re.Match object; span=(3, 4), match='2'>\n"
     ]
    }
   ],
   "source": [
    "execute(r\"\\d\", \"How2@\")"
   ]
  },
  {
   "cell_type": "code",
   "execution_count": 19,
   "id": "25645800",
   "metadata": {},
   "outputs": [
    {
     "name": "stdout",
     "output_type": "stream",
     "text": [
      "<re.Match object; span=(0, 1), match='H'>\n",
      "<re.Match object; span=(1, 2), match='o'>\n",
      "<re.Match object; span=(2, 3), match='w'>\n",
      "<re.Match object; span=(4, 5), match='@'>\n"
     ]
    }
   ],
   "source": [
    "execute(r\"\\D\", \"How2@\")"
   ]
  },
  {
   "cell_type": "code",
   "execution_count": 20,
   "id": "64d33f0f",
   "metadata": {},
   "outputs": [
    {
     "name": "stdout",
     "output_type": "stream",
     "text": [
      "<re.Match object; span=(3, 4), match=' '>\n",
      "<re.Match object; span=(7, 8), match=' '>\n"
     ]
    }
   ],
   "source": [
    "execute(r\"\\s\", \"How are you\")"
   ]
  },
  {
   "cell_type": "code",
   "execution_count": 21,
   "id": "43af666b",
   "metadata": {},
   "outputs": [
    {
     "name": "stdout",
     "output_type": "stream",
     "text": [
      "<re.Match object; span=(0, 1), match='H'>\n",
      "<re.Match object; span=(1, 2), match='o'>\n",
      "<re.Match object; span=(2, 3), match='w'>\n",
      "<re.Match object; span=(4, 5), match='a'>\n",
      "<re.Match object; span=(5, 6), match='r'>\n",
      "<re.Match object; span=(6, 7), match='e'>\n",
      "<re.Match object; span=(8, 9), match='y'>\n",
      "<re.Match object; span=(9, 10), match='o'>\n",
      "<re.Match object; span=(10, 11), match='u'>\n"
     ]
    }
   ],
   "source": [
    "execute(r\"\\S\", \"How are you\")"
   ]
  },
  {
   "cell_type": "code",
   "execution_count": 22,
   "id": "29bb2789",
   "metadata": {},
   "outputs": [
    {
     "name": "stdout",
     "output_type": "stream",
     "text": [
      "<re.Match object; span=(0, 1), match='H'>\n",
      "<re.Match object; span=(1, 2), match='o'>\n",
      "<re.Match object; span=(2, 3), match='w'>\n",
      "<re.Match object; span=(4, 5), match='a'>\n",
      "<re.Match object; span=(5, 6), match='r'>\n",
      "<re.Match object; span=(6, 7), match='e'>\n",
      "<re.Match object; span=(8, 9), match='y'>\n",
      "<re.Match object; span=(9, 10), match='o'>\n",
      "<re.Match object; span=(10, 11), match='u'>\n"
     ]
    }
   ],
   "source": [
    "execute(r\"\\w\", \"How are you.\")"
   ]
  },
  {
   "cell_type": "code",
   "execution_count": 23,
   "id": "8f3bdaf1",
   "metadata": {},
   "outputs": [
    {
     "name": "stdout",
     "output_type": "stream",
     "text": [
      "<re.Match object; span=(3, 4), match=' '>\n",
      "<re.Match object; span=(7, 8), match=' '>\n",
      "<re.Match object; span=(11, 12), match='.'>\n"
     ]
    }
   ],
   "source": [
    "execute(r\"\\W\", \"How are you.\")"
   ]
  },
  {
   "cell_type": "code",
   "execution_count": 24,
   "id": "03f0d35e",
   "metadata": {},
   "outputs": [
    {
     "name": "stdout",
     "output_type": "stream",
     "text": [
      "<re.Match object; span=(6, 9), match='hey'>\n",
      "<re.Match object; span=(18, 21), match='hey'>\n"
     ]
    }
   ],
   "source": [
    "execute(r\"\\bhey\", \"first hey, second hey, third _hey\")"
   ]
  },
  {
   "cell_type": "code",
   "execution_count": 25,
   "id": "ef06514b",
   "metadata": {},
   "outputs": [
    {
     "name": "stdout",
     "output_type": "stream",
     "text": [
      "<re.Match object; span=(30, 33), match='hey'>\n"
     ]
    }
   ],
   "source": [
    "execute(r\"\\Bhey\", \"first hey, second hey, third _hey\")"
   ]
  },
  {
   "cell_type": "code",
   "execution_count": 26,
   "id": "1875f4a5",
   "metadata": {},
   "outputs": [
    {
     "name": "stdout",
     "output_type": "stream",
     "text": [
      "<re.Match object; span=(3, 4), match='1'>\n",
      "<re.Match object; span=(4, 5), match='2'>\n",
      "<re.Match object; span=(3, 4), match='1'>\n",
      "<re.Match object; span=(4, 5), match='2'>\n"
     ]
    },
    {
     "data": {
      "text/plain": [
       "True"
      ]
     },
     "execution_count": 26,
     "metadata": {},
     "output_type": "execute_result"
    }
   ],
   "source": [
    "execute(r\"\\d\", \"How12\") == execute(r\"[0-9]\", \"How12\")"
   ]
  },
  {
   "cell_type": "code",
   "execution_count": 27,
   "id": "4aee8282",
   "metadata": {},
   "outputs": [
    {
     "name": "stdout",
     "output_type": "stream",
     "text": [
      "<re.Match object; span=(5, 6), match='1'>\n",
      "<re.Match object; span=(6, 7), match='2'>\n",
      "<re.Match object; span=(7, 8), match='3'>\n",
      "<re.Match object; span=(8, 9), match='h'>\n"
     ]
    }
   ],
   "source": [
    "execute(r\"[0-9h]\",\"Howis123hey\")"
   ]
  },
  {
   "cell_type": "markdown",
   "id": "b6070e31",
   "metadata": {},
   "source": [
    "##### Using Sets"
   ]
  },
  {
   "cell_type": "code",
   "execution_count": 28,
   "id": "e228b217",
   "metadata": {},
   "outputs": [
    {
     "name": "stdout",
     "output_type": "stream",
     "text": [
      "<re.Match object; span=(3, 4), match='h'>\n",
      "<re.Match object; span=(4, 5), match='e'>\n",
      "<re.Match object; span=(5, 6), match='y'>\n"
     ]
    }
   ],
   "source": [
    "execute(r\"[a-z]\", \"HEYhey\")"
   ]
  },
  {
   "cell_type": "code",
   "execution_count": 29,
   "id": "123878b0",
   "metadata": {},
   "outputs": [
    {
     "name": "stdout",
     "output_type": "stream",
     "text": [
      "<re.Match object; span=(0, 1), match='H'>\n",
      "<re.Match object; span=(1, 2), match='E'>\n",
      "<re.Match object; span=(2, 3), match='Y'>\n"
     ]
    }
   ],
   "source": [
    "execute(r\"[A-Z]\", \"HEYhey\")"
   ]
  },
  {
   "cell_type": "code",
   "execution_count": 30,
   "id": "47306e9f",
   "metadata": {},
   "outputs": [
    {
     "name": "stdout",
     "output_type": "stream",
     "text": [
      "<re.Match object; span=(0, 1), match='H'>\n",
      "<re.Match object; span=(1, 2), match='E'>\n",
      "<re.Match object; span=(2, 3), match='Y'>\n",
      "<re.Match object; span=(3, 4), match='h'>\n",
      "<re.Match object; span=(4, 5), match='e'>\n",
      "<re.Match object; span=(5, 6), match='y'>\n"
     ]
    }
   ],
   "source": [
    "execute(r\"[a-zA-Z]\", \"HEYhey\")"
   ]
  },
  {
   "cell_type": "code",
   "execution_count": 31,
   "id": "d7a9d163",
   "metadata": {},
   "outputs": [
    {
     "name": "stdout",
     "output_type": "stream",
     "text": [
      "<re.Match object; span=(0, 1), match='1'>\n",
      "<re.Match object; span=(1, 2), match='H'>\n",
      "<re.Match object; span=(2, 3), match='E'>\n",
      "<re.Match object; span=(3, 4), match='Y'>\n",
      "<re.Match object; span=(4, 5), match='h'>\n",
      "<re.Match object; span=(5, 6), match='e'>\n",
      "<re.Match object; span=(6, 7), match='y'>\n"
     ]
    }
   ],
   "source": [
    "execute(r\"[a-zA-Z0-9]\", \"1HEYhey\")"
   ]
  },
  {
   "cell_type": "markdown",
   "id": "0226135e",
   "metadata": {},
   "source": [
    "#### Quantifiers\n",
    "\n",
    "`` *     - 0 or more characters``                                                                                               \n",
    "`` +     - 1 or more characters``                                                                                                                                      \n",
    "`` ?     - 0 or 1 (optional character)``   \n",
    "``{x}   - x no of characters``                                                                                           \n",
    "``{x,y} - Between x and y no of characters``                                                                                                                                                      "
   ]
  },
  {
   "cell_type": "code",
   "execution_count": 32,
   "id": "3fefe1c4",
   "metadata": {},
   "outputs": [
    {
     "name": "stdout",
     "output_type": "stream",
     "text": [
      "<re.Match object; span=(0, 0), match=''>\n",
      "<re.Match object; span=(1, 1), match=''>\n",
      "<re.Match object; span=(2, 2), match=''>\n",
      "<re.Match object; span=(3, 3), match=''>\n",
      "<re.Match object; span=(4, 4), match=''>\n"
     ]
    }
   ],
   "source": [
    "execute(r\"\\d*\", \"Boys\")"
   ]
  },
  {
   "cell_type": "code",
   "execution_count": 33,
   "id": "53dd5bd9",
   "metadata": {},
   "outputs": [
    {
     "name": "stdout",
     "output_type": "stream",
     "text": [
      "<re.Match object; span=(4, 5), match='1'>\n"
     ]
    }
   ],
   "source": [
    "execute(r\"\\d+\", \"Boys1\")"
   ]
  },
  {
   "cell_type": "code",
   "execution_count": 34,
   "id": "14aec95b",
   "metadata": {},
   "outputs": [],
   "source": [
    "def execute_list(pattern, object_list):\n",
    "    \"\"\"returns match objects in 'object_list' that match the 'pattern' \n",
    "    \"\"\"\n",
    "    object_list = list(object_list)\n",
    "    for _ in object_list:\n",
    "        execute(pattern,_)"
   ]
  },
  {
   "cell_type": "code",
   "execution_count": 35,
   "id": "094ca3a9",
   "metadata": {},
   "outputs": [
    {
     "name": "stdout",
     "output_type": "stream",
     "text": [
      "<re.Match object; span=(2, 6), match='0213'>\n",
      "<re.Match object; span=(2, 5), match='654'>\n",
      "<re.Match object; span=(2, 5), match='002'>\n",
      "<re.Match object; span=(2, 5), match='862'>\n"
     ]
    }
   ],
   "source": [
    "# return the last digit(s) in a list of ID's\n",
    "ID = ['Ab0213',\n",
    "      'AB654', \n",
    "      'AB002',\n",
    "      'AB862']\n",
    "id_pattern = r\"\\d+$\"\n",
    "execute_list(id_pattern, ID)"
   ]
  },
  {
   "cell_type": "code",
   "execution_count": 36,
   "id": "5ee537a6",
   "metadata": {},
   "outputs": [
    {
     "name": "stdout",
     "output_type": "stream",
     "text": [
      "<re.Match object; span=(0, 14), match='debo@yahoo.com'>\n",
      "<re.Match object; span=(0, 13), match='sam@gmail.com'>\n",
      "<re.Match object; span=(0, 15), match='sam@hotlink.com'>\n"
     ]
    }
   ],
   "source": [
    "#check for valid '.com' email\n",
    "emails = ['debo@yahoo.com',\n",
    "          'debo@yahoo.ng', \n",
    "          'sam@gmail.com', \n",
    "          'sam@hotlink.com', \n",
    "          'henry@gmail.uk']\n",
    "dot_com_email_pattern = r\"[a-zA-z]+\\w+@\\w+\\.com\"\n",
    "execute_list(dot_com_email_pattern, emails)"
   ]
  },
  {
   "cell_type": "code",
   "execution_count": 37,
   "id": "63b0d277",
   "metadata": {},
   "outputs": [
    {
     "name": "stdout",
     "output_type": "stream",
     "text": [
      "<re.Match object; span=(4, 14), match='2020/06/06'>\n",
      "<re.Match object; span=(0, 10), match='2005-08-29'>\n"
     ]
    }
   ],
   "source": [
    "date_list = ['Hey 2020/06/06',\n",
    "             '2567', \n",
    "             '08-09-1984', \n",
    "             'error', \n",
    "             '2005-08-29']\n",
    "date_pattern = r\"(\\d{4}([-/|]\\d{2}){2})\"  #yyyy-mm-dd or yyyy/mm/dd \n",
    "execute_list(date_pattern, date_list)"
   ]
  },
  {
   "cell_type": "markdown",
   "id": "4f75aaf9",
   "metadata": {},
   "source": [
    "#### Using ``.group()``\n",
    "\n",
    "- A regular expression can be divided into groups using brackets.\n",
    "- Using the method  ``.group()`` or `` .group(0)`` returns the entire match object.\n",
    "- Using the method  ``.group(i)`` returns the object in the $i^{th}$ group of the match object"
   ]
  },
  {
   "cell_type": "code",
   "execution_count": 38,
   "id": "9831757f",
   "metadata": {},
   "outputs": [
    {
     "name": "stdout",
     "output_type": "stream",
     "text": [
      "Country ID: Lag , Order No: 356\n",
      "Country ID: UK , Order No: 234\n",
      "Country ID: SA , Order No: 563\n",
      "Country ID: LA , Order No: 478\n",
      "Country ID: GH , Order No: 789\n",
      "Country ID: Lag , Order No: 357\n"
     ]
    }
   ],
   "source": [
    "#extracting coutry ID and order no from valid order id's\n",
    "order_id =['Lag356',\n",
    "           'UK234',\n",
    "           'SA563',\n",
    "           'LA478',\n",
    "           'Null',\n",
    "           'GH789',\n",
    "           'Lag357']\n",
    "pattern = re.compile(r\"([a-zA-Z]+)(\\d+)\")\n",
    "for i in order_id:\n",
    "    matches = re.finditer(pattern,i)\n",
    "    for match in matches:\n",
    "        print(\"Country ID: %s , Order No: %s\" \n",
    "              %(match.group(1),match.group(2)))"
   ]
  },
  {
   "cell_type": "markdown",
   "id": "73fbd49e",
   "metadata": {},
   "source": [
    "#### Using ``.split()``"
   ]
  },
  {
   "cell_type": "code",
   "execution_count": 39,
   "id": "b93d181e",
   "metadata": {},
   "outputs": [
    {
     "name": "stdout",
     "output_type": "stream",
     "text": [
      "['Michael', 'Jon']\n",
      "['Tobi', 'Mike', 'James']\n",
      "['Ebun', 'Josh']\n",
      "['Danny', 'Walter', 'James']\n"
     ]
    }
   ],
   "source": [
    "#extracting a list containing, first, last, and optional other name\n",
    "order_id =['Michael Jon',\n",
    "           'Tobi Mike James',\n",
    "           'Ebun Josh',\n",
    "           'Danny Walter James']\n",
    "pattern = re.compile(r\" \")\n",
    "for i in order_id:\n",
    "    splitted_names = re.split(pattern,i)\n",
    "    print(splitted_names)"
   ]
  },
  {
   "cell_type": "markdown",
   "id": "d4640bc3",
   "metadata": {},
   "source": [
    "#### Using ``.sub()``"
   ]
  },
  {
   "cell_type": "code",
   "execution_count": 40,
   "id": "f89bbd5a",
   "metadata": {},
   "outputs": [],
   "source": [
    "def replace_with(item,pattern_to_replace,substitute):\n",
    "    \"\"\"replaces match object that matches 'pattern_to_replace' with 'substitute'\n",
    "    \"\"\"\n",
    "    new_item = []\n",
    "    item = list(item)\n",
    "    pattern = re.compile(pattern_to_replace)\n",
    "    for i in item:\n",
    "        item_without_space = re.sub(pattern,substitute,i)\n",
    "        new_item.append(item_without_space)\n",
    "    return(new_item)"
   ]
  },
  {
   "cell_type": "code",
   "execution_count": 41,
   "id": "7afd5172",
   "metadata": {},
   "outputs": [],
   "source": [
    "#replace k/K with '000', million/Million with '000000' and billion/Billion with '000000000'\n",
    "prices = ['20 k', '10Billion','40billion','10million', '15 million', '35Million','50trillion']"
   ]
  },
  {
   "cell_type": "code",
   "execution_count": 42,
   "id": "6cf04be1",
   "metadata": {},
   "outputs": [],
   "source": [
    "price_pattern_dict = {r' ':'',\n",
    "                r'k':'000',\n",
    "                r'million':'000000',\n",
    "                r'Million':'000000',\n",
    "                r'billion':'000000000',\n",
    "                r'Billion':'000000000',\n",
    "                r'trillion':'000000000000',\n",
    "                r'Trillion':'000000000000'}\n",
    "\n",
    "for pattern, replace_value in price_pattern_dict.items():\n",
    "    prices = replace_with(prices, pattern, replace_value)"
   ]
  },
  {
   "cell_type": "code",
   "execution_count": 43,
   "id": "248c86e4",
   "metadata": {},
   "outputs": [
    {
     "data": {
      "text/plain": [
       "['20000',\n",
       " '10000000000',\n",
       " '40000000000',\n",
       " '10000000',\n",
       " '15000000',\n",
       " '35000000',\n",
       " '50000000000000']"
      ]
     },
     "execution_count": 43,
     "metadata": {},
     "output_type": "execute_result"
    }
   ],
   "source": [
    "prices"
   ]
  }
 ],
 "metadata": {
  "kernelspec": {
   "display_name": "Python 3 (ipykernel)",
   "language": "python",
   "name": "python3"
  },
  "language_info": {
   "codemirror_mode": {
    "name": "ipython",
    "version": 3
   },
   "file_extension": ".py",
   "mimetype": "text/x-python",
   "name": "python",
   "nbconvert_exporter": "python",
   "pygments_lexer": "ipython3",
   "version": "3.9.7"
  }
 },
 "nbformat": 4,
 "nbformat_minor": 5
}
